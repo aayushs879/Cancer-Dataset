{
 "cells": [
  {
   "cell_type": "code",
   "execution_count": 1,
   "metadata": {},
   "outputs": [],
   "source": [
    "#This is the jupyter notebook assignment on cancer data\n",
    "#i have used sklearn api rather than writing the whole algorithm\n",
    "\n",
    "#importing libraries\n",
    "\n",
    "import numpy as np\n",
    "import seaborn as sns\n",
    "import matplotlib.pyplot as plt\n",
    "import pandas as pd\n",
    "import os\n",
    "import math\n",
    "\n"
   ]
  },
  {
   "cell_type": "code",
   "execution_count": 2,
   "metadata": {},
   "outputs": [
    {
     "name": "stdout",
     "output_type": "stream",
     "text": [
      "Clump Thickness                            10\n",
      "Uniformity of Cell Size                    10\n",
      "Uniformity of Cell Shape                   10\n",
      "Marginal Adhesion                          10\n",
      "Single Epithelial Cell Size                10\n",
      "Bare Nuclei                                11\n",
      "Bland Chromatin                            10\n",
      "Normal Nucleoli                            10\n",
      "Mitoses                                     9\n",
      "Class: (2 for benign,  4 for malignant)     2\n",
      "dtype: int64\n",
      "   Clump Thickness  Uniformity of Cell Size  Uniformity of Cell Shape  \\\n",
      "0                5                        1                         1   \n",
      "1                5                        4                         4   \n",
      "2                3                        1                         1   \n",
      "3                6                        8                         8   \n",
      "4                4                        1                         1   \n",
      "\n",
      "   Marginal Adhesion  Single Epithelial Cell Size Bare Nuclei  \\\n",
      "0                  1                            2           1   \n",
      "1                  5                            7          10   \n",
      "2                  1                            2           2   \n",
      "3                  1                            3           4   \n",
      "4                  3                            2           1   \n",
      "\n",
      "   Bland Chromatin  Normal Nucleoli  Mitoses  \\\n",
      "0                3                1        1   \n",
      "1                3                2        1   \n",
      "2                3                1        1   \n",
      "3                3                7        1   \n",
      "4                3                1        1   \n",
      "\n",
      "   Class: (2 for benign,  4 for malignant)  \n",
      "0                                        2  \n",
      "1                                        2  \n",
      "2                                        2  \n",
      "3                                        2  \n",
      "4                                        2  \n"
     ]
    }
   ],
   "source": [
    "#importing cancer dataset, i copied all the data of sheet 2 provided in potential datasets and stored it in a csv file\n",
    "\n",
    "all_data = pd.read_csv('innovaccer/cancer_data.csv')\n",
    "\n",
    "#dropping out the last column as it was an extra column and had no values, might be a simple error \n",
    "all_data = all_data.drop([' 4 for malignant)'], axis = 1)\n",
    "\n",
    "#dropping out the id no. column as it's merely a no. for the reference of doctors and will have hardly any effect on the type of cancer\n",
    "all_data = all_data.drop(['Sample code number'], axis = 1)\n",
    "\n",
    "#Checking columns for unique values and having a look at the dataset\n",
    "print(all_data.nunique())\n",
    "print(all_data.head())"
   ]
  },
  {
   "cell_type": "code",
   "execution_count": 3,
   "metadata": {},
   "outputs": [
    {
     "name": "stdout",
     "output_type": "stream",
     "text": [
      "                                         Clump Thickness  \\\n",
      "Clump Thickness                                 1.000000   \n",
      "Uniformity of Cell Size                         0.644913   \n",
      "Uniformity of Cell Shape                        0.654589   \n",
      "Marginal Adhesion                               0.486356   \n",
      "Single Epithelial Cell Size                     0.521816   \n",
      "Bland Chromatin                                 0.558428   \n",
      "Normal Nucleoli                                 0.535835   \n",
      "Mitoses                                         0.350034   \n",
      "Class: (2 for benign,  4 for malignant)         0.716001   \n",
      "\n",
      "                                         Uniformity of Cell Size  \\\n",
      "Clump Thickness                                         0.644913   \n",
      "Uniformity of Cell Size                                 1.000000   \n",
      "Uniformity of Cell Shape                                0.906882   \n",
      "Marginal Adhesion                                       0.705582   \n",
      "Single Epithelial Cell Size                             0.751799   \n",
      "Bland Chromatin                                         0.755721   \n",
      "Normal Nucleoli                                         0.722865   \n",
      "Mitoses                                                 0.458693   \n",
      "Class: (2 for benign,  4 for malignant)                 0.817904   \n",
      "\n",
      "                                         Uniformity of Cell Shape  \\\n",
      "Clump Thickness                                          0.654589   \n",
      "Uniformity of Cell Size                                  0.906882   \n",
      "Uniformity of Cell Shape                                 1.000000   \n",
      "Marginal Adhesion                                        0.683079   \n",
      "Single Epithelial Cell Size                              0.719668   \n",
      "Bland Chromatin                                          0.735948   \n",
      "Normal Nucleoli                                          0.719446   \n",
      "Mitoses                                                  0.438911   \n",
      "Class: (2 for benign,  4 for malignant)                  0.818934   \n",
      "\n",
      "                                         Marginal Adhesion  \\\n",
      "Clump Thickness                                   0.486356   \n",
      "Uniformity of Cell Size                           0.705582   \n",
      "Uniformity of Cell Shape                          0.683079   \n",
      "Marginal Adhesion                                 1.000000   \n",
      "Single Epithelial Cell Size                       0.599599   \n",
      "Bland Chromatin                                   0.666715   \n",
      "Normal Nucleoli                                   0.603352   \n",
      "Mitoses                                           0.417633   \n",
      "Class: (2 for benign,  4 for malignant)           0.696800   \n",
      "\n",
      "                                         Single Epithelial Cell Size  \\\n",
      "Clump Thickness                                             0.521816   \n",
      "Uniformity of Cell Size                                     0.751799   \n",
      "Uniformity of Cell Shape                                    0.719668   \n",
      "Marginal Adhesion                                           0.599599   \n",
      "Single Epithelial Cell Size                                 1.000000   \n",
      "Bland Chromatin                                             0.616102   \n",
      "Normal Nucleoli                                             0.628881   \n",
      "Mitoses                                                     0.479101   \n",
      "Class: (2 for benign,  4 for malignant)                     0.682785   \n",
      "\n",
      "                                         Bland Chromatin  Normal Nucleoli  \\\n",
      "Clump Thickness                                 0.558428         0.535835   \n",
      "Uniformity of Cell Size                         0.755721         0.722865   \n",
      "Uniformity of Cell Shape                        0.735948         0.719446   \n",
      "Marginal Adhesion                               0.666715         0.603352   \n",
      "Single Epithelial Cell Size                     0.616102         0.628881   \n",
      "Bland Chromatin                                 1.000000         0.665878   \n",
      "Normal Nucleoli                                 0.665878         1.000000   \n",
      "Mitoses                                         0.344169         0.428336   \n",
      "Class: (2 for benign,  4 for malignant)         0.756616         0.712244   \n",
      "\n",
      "                                          Mitoses  \\\n",
      "Clump Thickness                          0.350034   \n",
      "Uniformity of Cell Size                  0.458693   \n",
      "Uniformity of Cell Shape                 0.438911   \n",
      "Marginal Adhesion                        0.417633   \n",
      "Single Epithelial Cell Size              0.479101   \n",
      "Bland Chromatin                          0.344169   \n",
      "Normal Nucleoli                          0.428336   \n",
      "Mitoses                                  1.000000   \n",
      "Class: (2 for benign,  4 for malignant)  0.423170   \n",
      "\n",
      "                                         Class: (2 for benign,  4 for malignant)  \n",
      "Clump Thickness                                                         0.716001  \n",
      "Uniformity of Cell Size                                                 0.817904  \n",
      "Uniformity of Cell Shape                                                0.818934  \n",
      "Marginal Adhesion                                                       0.696800  \n",
      "Single Epithelial Cell Size                                             0.682785  \n",
      "Bland Chromatin                                                         0.756616  \n",
      "Normal Nucleoli                                                         0.712244  \n",
      "Mitoses                                                                 0.423170  \n",
      "Class: (2 for benign,  4 for malignant)                                 1.000000  \n"
     ]
    },
    {
     "data": {
      "text/plain": [
       "<matplotlib.axes._subplots.AxesSubplot at 0x1a5868ce630>"
      ]
     },
     "execution_count": 3,
     "metadata": {},
     "output_type": "execute_result"
    },
    {
     "data": {
      "image/png": "[encoded data removed]",
      "text/plain": [
       "<Figure size 432x288 with 2 Axes>"
      ]
     },
     "metadata": {
      "needs_background": "light"
     },
     "output_type": "display_data"
    }
   ],
   "source": [
    "#explorinng for correlation with the output variable as well as intercorrelation amongst features\n",
    "print(all_data.corr())\n",
    "\n",
    "corr= all_data.corr()\n",
    "\n",
    "#plotting a heatmap for that\n",
    "sns.heatmap(all_data.corr())"
   ]
  },
  {
   "cell_type": "code",
   "execution_count": 4,
   "metadata": {},
   "outputs": [
    {
     "name": "stdout",
     "output_type": "stream",
     "text": [
      "[23, 40, 139, 145, 158, 164, 235, 249, 275, 292, 294, 297, 315, 321, 411, 617] 16\n"
     ]
    }
   ],
   "source": [
    "#turns out that the column bare nuclei had '?' at some places which is why wasn't shown by .corr() function\n",
    "\n",
    "# checking out the column bare nuclei for '?' and its indices\n",
    "\n",
    "l = []\n",
    "a = all_data['Bare Nuclei']\n",
    "for i in range(len(all_data)):\n",
    "    if (a[i] == '?'):\n",
    "        l.append(i)\n",
    "        \n",
    "print(l, len(l))"
   ]
  },
  {
   "cell_type": "code",
   "execution_count": 5,
   "metadata": {},
   "outputs": [
    {
     "name": "stdout",
     "output_type": "stream",
     "text": [
      "Clump Thickness                            int64\n",
      "Uniformity of Cell Size                    int64\n",
      "Uniformity of Cell Shape                   int64\n",
      "Marginal Adhesion                          int64\n",
      "Single Epithelial Cell Size                int64\n",
      "Bare Nuclei                                int64\n",
      "Bland Chromatin                            int64\n",
      "Normal Nucleoli                            int64\n",
      "Mitoses                                    int64\n",
      "Class: (2 for benign,  4 for malignant)    int64\n",
      "dtype: object\n"
     ]
    }
   ],
   "source": [
    "#dropping out these rows for now\n",
    "all_data = all_data.drop(l, axis = 0)\n",
    "\n",
    "all_data['Bare Nuclei'] = all_data['Bare Nuclei'].astype(np.int64)\n",
    "\n",
    "print(all_data.dtypes)"
   ]
  },
  {
   "cell_type": "code",
   "execution_count": 6,
   "metadata": {},
   "outputs": [
    {
     "name": "stdout",
     "output_type": "stream",
     "text": [
      "                                         Clump Thickness  \\\n",
      "Clump Thickness                                 1.000000   \n",
      "Uniformity of Cell Size                         0.642481   \n",
      "Uniformity of Cell Shape                        0.653470   \n",
      "Marginal Adhesion                               0.487829   \n",
      "Single Epithelial Cell Size                     0.523596   \n",
      "Bare Nuclei                                     0.593091   \n",
      "Bland Chromatin                                 0.553742   \n",
      "Normal Nucleoli                                 0.534066   \n",
      "Mitoses                                         0.350957   \n",
      "Class: (2 for benign,  4 for malignant)         0.714790   \n",
      "\n",
      "                                         Uniformity of Cell Size  \\\n",
      "Clump Thickness                                         0.642481   \n",
      "Uniformity of Cell Size                                 1.000000   \n",
      "Uniformity of Cell Shape                                0.907228   \n",
      "Marginal Adhesion                                       0.706977   \n",
      "Single Epithelial Cell Size                             0.753544   \n",
      "Bare Nuclei                                             0.691709   \n",
      "Bland Chromatin                                         0.755559   \n",
      "Normal Nucleoli                                         0.719346   \n",
      "Mitoses                                                 0.460755   \n",
      "Class: (2 for benign,  4 for malignant)                 0.820801   \n",
      "\n",
      "                                         Uniformity of Cell Shape  \\\n",
      "Clump Thickness                                          0.653470   \n",
      "Uniformity of Cell Size                                  0.907228   \n",
      "Uniformity of Cell Shape                                 1.000000   \n",
      "Marginal Adhesion                                        0.685948   \n",
      "Single Epithelial Cell Size                              0.722462   \n",
      "Bare Nuclei                                              0.713878   \n",
      "Bland Chromatin                                          0.735344   \n",
      "Normal Nucleoli                                          0.717963   \n",
      "Mitoses                                                  0.441258   \n",
      "Class: (2 for benign,  4 for malignant)                  0.821891   \n",
      "\n",
      "                                         Marginal Adhesion  \\\n",
      "Clump Thickness                                   0.487829   \n",
      "Uniformity of Cell Size                           0.706977   \n",
      "Uniformity of Cell Shape                          0.685948   \n",
      "Marginal Adhesion                                 1.000000   \n",
      "Single Epithelial Cell Size                       0.594548   \n",
      "Bare Nuclei                                       0.670648   \n",
      "Bland Chromatin                                   0.668567   \n",
      "Normal Nucleoli                                   0.603121   \n",
      "Mitoses                                           0.418898   \n",
      "Class: (2 for benign,  4 for malignant)           0.706294   \n",
      "\n",
      "                                         Single Epithelial Cell Size  \\\n",
      "Clump Thickness                                             0.523596   \n",
      "Uniformity of Cell Size                                     0.753544   \n",
      "Uniformity of Cell Shape                                    0.722462   \n",
      "Marginal Adhesion                                           0.594548   \n",
      "Single Epithelial Cell Size                                 1.000000   \n",
      "Bare Nuclei                                                 0.585716   \n",
      "Bland Chromatin                                             0.618128   \n",
      "Normal Nucleoli                                             0.628926   \n",
      "Mitoses                                                     0.480583   \n",
      "Class: (2 for benign,  4 for malignant)                     0.690958   \n",
      "\n",
      "                                         Bare Nuclei  Bland Chromatin  \\\n",
      "Clump Thickness                             0.593091         0.553742   \n",
      "Uniformity of Cell Size                     0.691709         0.755559   \n",
      "Uniformity of Cell Shape                    0.713878         0.735344   \n",
      "Marginal Adhesion                           0.670648         0.668567   \n",
      "Single Epithelial Cell Size                 0.585716         0.618128   \n",
      "Bare Nuclei                                 1.000000         0.680615   \n",
      "Bland Chromatin                             0.680615         1.000000   \n",
      "Normal Nucleoli                             0.584280         0.665602   \n",
      "Mitoses                                     0.339210         0.346011   \n",
      "Class: (2 for benign,  4 for malignant)     0.822696         0.758228   \n",
      "\n",
      "                                         Normal Nucleoli   Mitoses  \\\n",
      "Clump Thickness                                 0.534066  0.350957   \n",
      "Uniformity of Cell Size                         0.719346  0.460755   \n",
      "Uniformity of Cell Shape                        0.717963  0.441258   \n",
      "Marginal Adhesion                               0.603121  0.418898   \n",
      "Single Epithelial Cell Size                     0.628926  0.480583   \n",
      "Bare Nuclei                                     0.584280  0.339210   \n",
      "Bland Chromatin                                 0.665602  0.346011   \n",
      "Normal Nucleoli                                 1.000000  0.433757   \n",
      "Mitoses                                         0.433757  1.000000   \n",
      "Class: (2 for benign,  4 for malignant)         0.718677  0.423448   \n",
      "\n",
      "                                         Class: (2 for benign,  4 for malignant)  \n",
      "Clump Thickness                                                         0.714790  \n",
      "Uniformity of Cell Size                                                 0.820801  \n",
      "Uniformity of Cell Shape                                                0.821891  \n",
      "Marginal Adhesion                                                       0.706294  \n",
      "Single Epithelial Cell Size                                             0.690958  \n",
      "Bare Nuclei                                                             0.822696  \n",
      "Bland Chromatin                                                         0.758228  \n",
      "Normal Nucleoli                                                         0.718677  \n",
      "Mitoses                                                                 0.423448  \n",
      "Class: (2 for benign,  4 for malignant)                                 1.000000  \n"
     ]
    },
    {
     "data": {
      "text/plain": [
       "<matplotlib.axes._subplots.AxesSubplot at 0x1a586ca85c0>"
      ]
     },
     "execution_count": 6,
     "metadata": {},
     "output_type": "execute_result"
    },
    {
     "data": {
      "image/png": "[encoded data removed]",
      "text/plain": [
       "<Figure size 432x288 with 2 Axes>"
      ]
     },
     "metadata": {
      "needs_background": "light"
     },
     "output_type": "display_data"
    }
   ],
   "source": [
    "#turns out now every column is of dtype int64\n",
    "#again checking for correlations\n",
    "\n",
    "print(all_data.corr())\n",
    "sns.heatmap(all_data.corr())"
   ]
  },
  {
   "cell_type": "code",
   "execution_count": 7,
   "metadata": {},
   "outputs": [],
   "source": [
    "#turns out the feature bare nuclei has highest correlaion with the output variable\n",
    "## Since this is data is used for medical purposes and even a small amount of noise will result in disastrous outcomes,\n",
    "# therefore decided to drop these rows permanently\n",
    "\n",
    "#also the features 'Uniformity of Cell Size' and 'Uniformity of Cell Shape' has a very high intercorrelation therefore dropping out \n",
    "##Uniformity of Cell Size as it has slightly lower correlation with the output variable\n",
    "\n",
    "all_data = all_data.drop(['Uniformity of Cell Size'], axis = 1)\n",
    "\n",
    "#taking out our feature matrix\n",
    "X = all_data.iloc[:,:-1].values\n",
    "\n",
    "#taking out our target variable\n",
    "y = all_data.iloc[:,-1].values\n",
    "\n",
    "#coverting y values to binary, coz i like it that way\n",
    "y = (y == 4).astype(np.int)\n"
   ]
  },
  {
   "cell_type": "code",
   "execution_count": 8,
   "metadata": {},
   "outputs": [],
   "source": [
    "#Splitting into training set and test set, take 1\n",
    "\n",
    "from sklearn.model_selection import train_test_split as tts\n",
    "X_train, X_test, y_train, y_test = tts(X, y, test_size = 80, random_state = 42)\n"
   ]
  },
  {
   "cell_type": "code",
   "execution_count": 9,
   "metadata": {},
   "outputs": [],
   "source": [
    "#importing the required class for classifier\n",
    "from sklearn.svm import SVC\n",
    "\n",
    "#making an object of the class\n",
    "classifier = SVC(C = 3, kernel = 'rbf', max_iter = 40000)"
   ]
  },
  {
   "cell_type": "code",
   "execution_count": 10,
   "metadata": {},
   "outputs": [
    {
     "name": "stdout",
     "output_type": "stream",
     "text": [
      "F1 score average is 0.9376678837110491\n",
      "Average recall score is  0.9901960784313726\n"
     ]
    }
   ],
   "source": [
    "#for cross validation of model\n",
    "\n",
    "from sklearn.model_selection import cross_val_score\n",
    "#cross validating on training set, choosing f1 score to evaluate as data is a bit skewly distributed and malignant instances are less\n",
    "#and again f1 score will help better in analyzing false negatives\n",
    "accuracies = cross_val_score(estimator = classifier, X = X_train, y = y_train, scoring = 'f1')\n",
    "\n",
    "print('F1 score average is', accuracies.mean())\n",
    "\n",
    "\n",
    "#checking for recall values\n",
    "\n",
    "recall = cross_val_score(estimator = classifier, X = X_train, y = y_train, scoring = 'recall')\n",
    "print('Average recall score is ', recall.mean())\n"
   ]
  },
  {
   "cell_type": "code",
   "execution_count": 11,
   "metadata": {},
   "outputs": [
    {
     "name": "stdout",
     "output_type": "stream",
     "text": [
      "Probability of predicting a benign tumor while actually being a malignant tumor is 0.009803921568627416\n"
     ]
    }
   ],
   "source": [
    "#well thats a good f score as well as an astounding recall score\n",
    "print(\"Probability of predicting a benign tumor while actually being a malignant tumor is\", (1-recall.mean()))"
   ]
  },
  {
   "cell_type": "code",
   "execution_count": 12,
   "metadata": {},
   "outputs": [
    {
     "name": "stdout",
     "output_type": "stream",
     "text": [
      "F score on the test set =  1.0\n",
      "\n",
      "confusion matrix [[45  0]\n",
      " [ 0 35]]\n",
      "instances where it was predicted benign though actually they had malignant tumor = 0\n"
     ]
    }
   ],
   "source": [
    "# lets check for final accuracy on test set \n",
    "from sklearn.metrics import f1_score\n",
    "#also for false negatives\n",
    "from sklearn.metrics import confusion_matrix\n",
    "\n",
    "\n",
    "#fitting the classifier onto the training set after tuning the parameters\n",
    "classifier.fit(X_train, y_train)\n",
    "\n",
    "#lets hope for the best\n",
    "fscore = f1_score(y_test, classifier.predict(X_test))\n",
    "mat = confusion_matrix(y_test, classifier.predict(X_test))\n",
    "\n",
    "print(\"F score on the test set = \",fscore)\n",
    "print()\n",
    "print(\"confusion matrix\", mat)\n",
    "print(\"instances where it was predicted benign though actually they had malignant tumor =\", mat[1,0])"
   ]
  },
  {
   "cell_type": "code",
   "execution_count": 13,
   "metadata": {},
   "outputs": [
    {
     "name": "stdout",
     "output_type": "stream",
     "text": [
      "accuracy =  1.0\n"
     ]
    }
   ],
   "source": [
    "# great! 0 false negatives\n",
    "accuracy = (mat[0,0]+mat[1,1])/sum(sum(mat))\n",
    "print(\"accuracy = \",accuracy)"
   ]
  }
 ],
 "metadata": {
  "kernelspec": {
   "display_name": "Python 3",
   "language": "python",
   "name": "python3"
  },
  "language_info": {
   "codemirror_mode": {
    "name": "ipython",
    "version": 3
   },
   "file_extension": ".py",
   "mimetype": "text/x-python",
   "name": "python",
   "nbconvert_exporter": "python",
   "pygments_lexer": "ipython3",
   "version": "3.6.4"
  }
 },
 "nbformat": 4,
 "nbformat_minor": 2
}
